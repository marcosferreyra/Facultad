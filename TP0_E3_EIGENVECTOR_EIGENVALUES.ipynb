{
 "cells": [
  {
   "cell_type": "markdown",
   "id": "080b4b13",
   "metadata": {},
   "source": [
    "# Cálculo de Esfuerzos y Direcciones Principales del tensor esfuerzo\n",
    "\n",
    "\n",
    "## Ferreyra, Marcos José (29554)"
   ]
  },
  {
   "cell_type": "markdown",
   "id": "1ef400b0",
   "metadata": {},
   "source": [
    "Nuestro tensor de esfuerzos es el siguiente:\n",
    "\n",
    "\\begin{pmatrix}\n",
    "9 & 3 & 0\\\\\n",
    "3 & 3 & 1\\\\\n",
    "0 & 1 & 1\n",
    "\\end{pmatrix}"
   ]
  },
  {
   "cell_type": "code",
   "execution_count": 11,
   "id": "a2a1c1ec",
   "metadata": {},
   "outputs": [
    {
     "name": "stdout",
     "output_type": "stream",
     "text": [
      "Las tensiones principales son :  [10.2586314   2.37141675  0.36995185]\n",
      "-----\n",
      "Los direccione sprincipales son:  [[ 0.92132825 -0.34344706  0.1822042 ]\n",
      " [ 0.38653756  0.75885581 -0.52414366]\n",
      " [ 0.04174889  0.55333713  0.83191048]]\n"
     ]
    }
   ],
   "source": [
    "import numpy as np\n",
    "from numpy import linalg as LA\n",
    "Tensor = np.array([[9,3,0],[3,3,1],[0,1,1]])\n",
    "w, v = LA.eig(Tensor)\n",
    "\n",
    "\n",
    "print('Las tensiones principales son : ', w)\n",
    "print('-----')\n",
    "print('Los direccione sprincipales son: ', v)\n",
    "\n"
   ]
  },
  {
   "cell_type": "code",
   "execution_count": null,
   "id": "b4aacdbd",
   "metadata": {},
   "outputs": [],
   "source": []
  }
 ],
 "metadata": {
  "kernelspec": {
   "display_name": "Python 3",
   "language": "python",
   "name": "python3"
  },
  "language_info": {
   "codemirror_mode": {
    "name": "ipython",
    "version": 3
   },
   "file_extension": ".py",
   "mimetype": "text/x-python",
   "name": "python",
   "nbconvert_exporter": "python",
   "pygments_lexer": "ipython3",
   "version": "3.9.1"
  }
 },
 "nbformat": 4,
 "nbformat_minor": 5
}
